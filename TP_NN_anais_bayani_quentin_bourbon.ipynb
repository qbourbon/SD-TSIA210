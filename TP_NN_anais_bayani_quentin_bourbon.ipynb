{
  "cells": [
    {
      "cell_type": "markdown",
      "metadata": {
        "id": "iafPdtuncbq7"
      },
      "source": [
        "# TP: MNIST with Neural Networks (NN)"
      ]
    },
    {
      "cell_type": "code",
      "execution_count": 1,
      "metadata": {
        "colab": {
          "base_uri": "https://localhost:8080/"
        },
        "id": "OlKZ3Hnas7B4",
        "outputId": "2a9bb1b4-49e0-4b6e-ecf6-f51947dee39d"
      },
      "outputs": [
        {
          "output_type": "stream",
          "name": "stdout",
          "text": [
            "Using tensorflow version 2.12.0\n",
            "Using keras version 2.12.0\n"
          ]
        }
      ],
      "source": [
        "import numpy as np\n",
        "import tensorflow as tf\n",
        "import keras\n",
        "print(\"Using tensorflow version \" + str(tf.__version__))\n",
        "print(\"Using keras version \" + str(keras.__version__))"
      ]
    },
    {
      "cell_type": "markdown",
      "metadata": {
        "id": "s_QLz9_jbRZq"
      },
      "source": [
        "## Loading and preparing the MNIST dataset\n",
        "Load the MNIST dataset made available by keras.datasets. Check the size of the training and testing sets. \n",
        "\n",
        "<div class='alert alert-block alert-info'>\n",
        "            Code:</div>"
      ]
    },
    {
      "cell_type": "code",
      "execution_count": 2,
      "metadata": {
        "cellView": "both",
        "id": "gG83hGyVmijn",
        "colab": {
          "base_uri": "https://localhost:8080/"
        },
        "outputId": "a6fd82d7-4c45-424f-9eb6-c34a606083bc"
      },
      "outputs": [
        {
          "output_type": "stream",
          "name": "stdout",
          "text": [
            "Downloading data from https://storage.googleapis.com/tensorflow/tf-keras-datasets/mnist.npz\n",
            "11490434/11490434 [==============================] - 0s 0us/step\n"
          ]
        }
      ],
      "source": [
        "# The MNSIT dataset is ready to be imported from Keras into RAM\n",
        "# Warning: you cannot do that for larger databases (e.g., ImageNet)\n",
        "from keras.datasets import mnist\n",
        "(train_images, train_labels), (test_images, test_labels) = mnist.load_data()"
      ]
    },
    {
      "cell_type": "markdown",
      "metadata": {
        "id": "gRPbU_Z4U6Ac"
      },
      "source": [
        "The MNIST database contains 60,000 training images and 10,000 testing images.\n",
        "Using the pyplot package, visualize the first sample of the training set:\n",
        "\n",
        "<div class='alert alert-block alert-info'>\n",
        "            Code:</div>"
      ]
    },
    {
      "cell_type": "code",
      "execution_count": 3,
      "metadata": {
        "colab": {
          "base_uri": "https://localhost:8080/",
          "height": 283
        },
        "id": "x5VAu7oW0Zu4",
        "outputId": "8a3a8cdc-074f-44c5-f2c5-2b9dc87e6584"
      },
      "outputs": [
        {
          "output_type": "display_data",
          "data": {
            "text/plain": [
              "<Figure size 1500x500 with 5 Axes>"
            ],
            "image/png": "[encoded data removed]"
          },
          "metadata": {}
        }
      ],
      "source": [
        "# Let us visualize the first training sample using the Matplotlib library with the imshow function\n",
        "from matplotlib import pyplot as plt\n",
        "\n",
        "fig, ax = plt.subplots(1, 5, figsize=(15, 5))\n",
        "for i in range(5):\n",
        "  ax[i].imshow(train_images[i], cmap='gray')\n",
        "  ax[i].set_title(str(train_labels[i]))\n",
        "plt.show()"
      ]
    },
    {
      "cell_type": "markdown",
      "metadata": {
        "id": "s7YsRekMVDg-"
      },
      "source": [
        "The database contains images of handwritten digits. Hence, they belong to one of 10 categories, depending on the digit they represent. \n",
        "Reminder: in order to do multi-class classification, we use the softmax function, which outputs a multinomial probability distribution. That means that the output to our model will be a vector of size $10$, containing probabilities (meaning that the elements of the vector will be positive sum to $1$).\n",
        "For easy computation, we want to true labels to be represented with the same format: that is what we call **one-hot encoding**. For example, if an image $\\mathbf{x}$ represents the digit $5$, we have the corresponding one_hot label (careful, $0$ will be the first digit): \n",
        "$$ \\mathbf{y} = [0, 0, 0, 0, 0, 1, 0, 0, 0, 0] $$\n",
        "Here, you need to turn train and test labels to one-hot encoding using the following function: \n",
        "\n",
        "<div class='alert alert-block alert-info'>\n",
        "            Code:</div>"
      ]
    },
    {
      "cell_type": "code",
      "execution_count": 4,
      "metadata": {
        "id": "lQbkllF8mnaf"
      },
      "outputs": [],
      "source": [
        "from keras.utils.np_utils import to_categorical\n",
        "\n",
        "y_train = to_categorical(train_labels, num_classes=10)\n",
        "y_test = to_categorical(test_labels, num_classes=10)"
      ]
    },
    {
      "cell_type": "markdown",
      "metadata": {
        "id": "0jv29YLtVO3q"
      },
      "source": [
        "Images are black and white, with size $28 \\times 28$. We will work with them using a simple linear classification model, meaning that we will have them as vectors of size $(784)$.\n",
        "You should then transform the images to the size $(784)$ using the numpy function ```reshape```.\n",
        "\n",
        "Then, after casting the pixels to floats, normalize the images so that they have zero-mean and unitary deviation. Be careful to your methodology: while you have access to training data, you may not have access to testing data, and must avoid using any statistic on the testing dataset.\n",
        "\n",
        "<div class='alert alert-block alert-info'>\n",
        "            Code:</div>"
      ]
    },
    {
      "cell_type": "code",
      "execution_count": 5,
      "metadata": {
        "id": "ptTRSDo5nJyZ"
      },
      "outputs": [],
      "source": [
        "# Reshape images to vectors of pixels\n",
        "img_rows, img_cols = train_images.shape[1], train_images.shape[2]\n",
        "X_train = train_images.reshape(train_images.shape[0] ,img_rows*img_cols)\n",
        "X_test = test_images.reshape(test_images.shape[0] ,img_rows*img_cols)\n",
        "\n",
        "# Cast pixels from uint8 to float32\n",
        "X_train = X_train.astype('float32')\n",
        "X_test = X_test.astype('float32')\n",
        "\n",
        "# Now let us normalize the images so that they have zero mean and standard deviation\n",
        "# Hint: are real testing data statistics known at training time ?\n",
        "\n",
        "from sklearn.preprocessing import StandardScaler\n",
        "\n",
        "scaler = StandardScaler()\n",
        "X_train = scaler.fit_transform(X_train)\n",
        "X_test = scaler.transform(X_test)"
      ]
    },
    {
      "cell_type": "markdown",
      "metadata": {
        "id": "MdDrKCRdfyFI"
      },
      "source": [
        "# First part: working with Numpy\n",
        "\n",
        "Look at this [cheatsheet](https://s3.amazonaws.com/assets.datacamp.com/blog_assets/Numpy_Python_Cheat_Sheet.pdf) for some basic information on how to use numpy.\n",
        "\n",
        "### Defining the model \n",
        "\n",
        "We will here create a simple, linear classification model. We will take each pixel in the image as an input feature (making the size of the input to be $784$) and transform these features with a weight matrix $\\mathbf{W}$ and a bias vector $\\mathbf{b}$. Since there is $10$ possible classes, we want to obtain $10$ scores. Then, \n",
        "$$ \\mathbf{W} \\in \\mathbb{R}^{784 \\times 10} $$\n",
        "$$ \\mathbf{b} \\in \\mathbb{R}^{10} $$\n",
        "\n",
        "and our scores are obtained with:\n",
        "$$ \\mathbf{z} = \\mathbf{W}^{T} \\mathbf{x} +  \\mathbf{b} $$\n",
        "\n",
        "where $\\mathbf{x} \\in \\mathbb{R}^{784}$ is the input vector representing an image.\n",
        "We note $\\mathbf{y} \\in \\mathbb{R}^{10}$ as the target one_hot vector. \n",
        "\n",
        "Here, you fist need to initialize $\\mathbf{W}$ and $\\mathbf{b}$ using ```np.random.normal``` and ```np.zeros```, then compute $\\mathbf{z}$.\n",
        "<div class='alert alert-block alert-info'>\n",
        "            Code:</div>"
      ]
    },
    {
      "cell_type": "code",
      "execution_count": 6,
      "metadata": {
        "id": "RCLgKf7YfyFJ"
      },
      "outputs": [],
      "source": [
        "# To avoid implementing a complicated gradient back-propagation,\n",
        "# we will try a very simple architecture with one layer \n",
        "def initLayer(n_input,n_output):\n",
        "    \"\"\"\n",
        "    Initialize the weights, return the number of parameters\n",
        "    Inputs: n_input: the number of input units - int\n",
        "          : n_output: the number of output units - int\n",
        "    Outputs: W: a matrix of weights for the layer - numpy ndarray\n",
        "           : b: a vector bias for the layer - numpy ndarray\n",
        "           : nb_params: the number of parameters  - int\n",
        "    \"\"\"\n",
        "\n",
        "    \n",
        "    # Create W at the right size with a normal distribution\n",
        "    W = np.random.normal(size=(n_input, n_output))\n",
        "    # Create b at the right size, with zeros\n",
        "    b = np.zeros(n_output)\n",
        "    nb_params = n_output + n_output * n_input\n",
        "    return W, b, nb_params"
      ]
    },
    {
      "cell_type": "code",
      "execution_count": 7,
      "metadata": {
        "id": "PDNlI6KDfyFJ"
      },
      "outputs": [],
      "source": [
        "n_training = train_images.shape[0] \n",
        "n_feature = train_images.shape[1] * train_images.shape[2]\n",
        "n_labels = 10\n",
        "W, b, nb_params = initLayer(n_feature, n_labels)"
      ]
    },
    {
      "cell_type": "markdown",
      "metadata": {
        "id": "CcV8wDpefyFJ"
      },
      "source": [
        "<div class='alert alert-block alert-info'>\n",
        "            Code:</div>"
      ]
    },
    {
      "cell_type": "code",
      "execution_count": 8,
      "metadata": {
        "id": "1_QRdSrzfyFJ"
      },
      "outputs": [],
      "source": [
        "def forward(W, b, X):\n",
        "    \"\"\"\n",
        "    Perform the forward propagation\n",
        "    Inputs: W: the weights - numpy ndarray\n",
        "          : b: the bias - numpy ndarray\n",
        "          : X: the batch - numpy ndarray\n",
        "    Outputs: z: outputs - numpy ndarray (n_samples, n_output)\n",
        "    \"\"\"\n",
        "\n",
        "    z = X @ W + b\n",
        "    return z"
      ]
    },
    {
      "cell_type": "markdown",
      "metadata": {
        "id": "Qdew3ijpfyFK"
      },
      "source": [
        "### Computing the output \n",
        "\n",
        "To obtain classification probabilities, we use the softmax function:\n",
        "$$ \\mathbf{o} = softmax(\\mathbf{z}) \\text{         with          } o_i = \\frac{\\exp(z_i)}{\\sum_{j=0}^{9} \\exp(z_j)} $$\n",
        "\n",
        "The usual difficulty with the softmax function is the possibility of overflow when the scores $z_i$ are already large. Since a softmax is not affected by a shift affecting the whole vector $\\mathbf{z}$:\n",
        "$$ \\frac{\\exp(z_i - c)}{\\sum_{j=0}^{9} \\exp(z_j - c)} =  \\frac{\\exp(c) \\exp(z_i)}{\\exp(c) \\sum_{j=0}^{9} \\exp(z_j)} = \\frac{\\exp(z_i)}{\\sum_{j=0}^{9} \\exp(z_j)}$$\n",
        "what trick can we use to ensure we will not encounter any overflow ? \n",
        "<div class='alert alert-block alert-info'>\n",
        "            Code:</div>"
      ]
    },
    {
      "cell_type": "markdown",
      "source": [
        "To avoid overflow value in z, we can shift all the value of z by its maximum since the softmax is invariant to shifting. "
      ],
      "metadata": {
        "id": "aeTIJVVtkcas"
      }
    },
    {
      "cell_type": "code",
      "execution_count": 9,
      "metadata": {
        "id": "MdXEoEe2fyFK"
      },
      "outputs": [],
      "source": [
        "def softmax(z):\n",
        "    \"\"\"\n",
        "    Perform the softmax transformation to the pre-activation values\n",
        "    Inputs: z: the pre-activation values - numpy ndarray\n",
        "    Outputs: out: the activation values - numpy ndarray\n",
        "    \"\"\"\n",
        "    if len(z.shape) > 1:\n",
        "      z = z - z.max(axis=1, keepdims=True)\n",
        "      out = np.exp(z) / np.exp(z).sum()\n",
        "      return out\n",
        "    z = z - z.max()\n",
        "    out = np.exp(z) / np.exp(z).sum()\n",
        "    return out"
      ]
    },
    {
      "cell_type": "markdown",
      "metadata": {
        "id": "xb_rSm7qfyFK"
      },
      "source": [
        "### Making updates\n",
        "\n",
        "We define a learning rate $\\eta$. The goal is to be able to apply updates:\n",
        "$$ \\mathbf{W}^{t+1} = \\mathbf{W}^{t} + \\nabla_{\\mathbf{W}} l_{MLE} $$\n",
        "\n",
        "In order to do this, we will compute this gradient (and the bias) in the function ```update```. In the next function ```updateParams```, we will actually apply the update with regularization. \n",
        "\n",
        "Reminder: the gradient $\\nabla_{\\mathbf{W}} l_{MLE}$ is the matrix containing the partial derivatives \n",
        "$$ \\left[\\frac{\\delta l_{MLE}}{\\delta W_{ij}}\\right]_{i=1..784, j=1..10} $$\n",
        "**Remark**: Careful, the usual way of implementing this in python has the dimensions of $\\mathbf{W}$ reversed compared to the notation of the slides.\n",
        "\n",
        "Coordinate by coordinate, we obtain the following update: \n",
        "$$ W_{ij}^{t+1} = W_{ij}^{t} + \\eta \\frac{\\delta l_{MLE}}{\\delta W_{ij}} $$\n",
        "\n",
        "Via the chain rule, we obtain, for an input feature $i \\in [0, 783]$ and a output class $j \\in [0, 9]$: $$\\frac{\\delta l_{MLE}}{\\delta W_{ij}} = \\frac{\\delta l_{MLE}}{\\delta z_{j}} \\frac{\\delta z_j}{\\delta W_{ij}}$$ \n",
        "\n",
        "It's easy to compute that $\\frac{\\delta z_j}{\\delta W_{ij}} = x_i$\n",
        "\n",
        "We compute the softmax derivative, to obtain:\n",
        "$$ \\nabla_{\\mathbf{z}} l_{MLE} = \\mathbf{o} - \\mathbf{y} $$\n",
        "\n",
        "Hence, $\\frac{\\delta l_{MLE}}{\\delta z_{j}} = o_j - y_j$ and we obtain that $$\\frac{\\delta l_{MLE}}{\\delta W_{ij}} = (o_j - y_j) x_i$$\n",
        "\n",
        "This can easily be written as a scalar product, and a similar computation (even easier, actually) can be done for $\\mathbf{b}$. Noting $\\nabla_{\\mathbf{z}} l_{MLE} = \\mathbf{o} - \\mathbf{y}$ as ```grad``` in the following function, compute the gradients $\\nabla_{\\mathbf{W}} l_{MLE}$ and $\\nabla_{\\mathbf{b}} l_{MLE}$ in order to call the function ```updateParams```.\n",
        "\n",
        "Note: the regularizer and the weight_decay $\\lambda$ are used in ```updateParams```.\n",
        "\n",
        "<div class='alert alert-block alert-info'>\n",
        "            Code:</div>"
      ]
    },
    {
      "cell_type": "code",
      "execution_count": 10,
      "metadata": {
        "id": "S5W3_RvLfyFK"
      },
      "outputs": [],
      "source": [
        "def update(eta, W, b, grad, X, regularizer, weight_decay):\n",
        "    \"\"\"\n",
        "    Perform the update of the parameters\n",
        "    Inputs: eta: the step-size of the gradient descent - float \n",
        "          : W: the weights - ndarray\n",
        "          : b: the bias -  ndarray\n",
        "          : grad: the gradient of the activations w.r.t. to the loss -  list of ndarray\n",
        "          : X: the data -  ndarray\n",
        "          : regularizer: 'L2' or None - the regularizer to be used in updateParams\n",
        "          : weight_decay: the weight decay to be used in updateParams - float\n",
        "    Outputs: W: the weights updated -  ndarray\n",
        "           : b: the bias updated -  ndarray\n",
        "    \"\"\"\n",
        "    grad_w = np.outer(grad, X.T)\n",
        "    grad_b = grad\n",
        "        \n",
        "    W = updateParams(W, grad_w, eta, regularizer, weight_decay)\n",
        "    b = updateParams(b, grad_b, eta, regularizer, weight_decay)\n",
        "    return W, b"
      ]
    },
    {
      "cell_type": "markdown",
      "metadata": {
        "id": "WAwAKPczfyFL"
      },
      "source": [
        "The update rule is affected by regularization. We implement two cases: No regularization, or L2 regularization. Use the two possible update rules to implement the following function: <div class='alert alert-block alert-info'>\n",
        "            Code:</div>"
      ]
    },
    {
      "cell_type": "code",
      "execution_count": 11,
      "metadata": {
        "id": "2kqyBK3nfyFL"
      },
      "outputs": [],
      "source": [
        "def updateParams(param, grad_param, eta, regularizer=None, weight_decay=0.):\n",
        "    \"\"\"\n",
        "    Perform the update of the parameters\n",
        "    Inputs: param: the network parameters - ndarray\n",
        "          : grad_param: the updates of the parameters - ndarray\n",
        "          : eta: the step-size of the gradient descent - float\n",
        "          : weight_decay: the weight-decay - float\n",
        "    Outputs: the parameters updated - ndarray\n",
        "    \"\"\"\n",
        "    if regularizer==None:\n",
        "        grad = param - eta * grad_param.T\n",
        "        return grad\n",
        "    elif regularizer=='L2':\n",
        "        grad = (1 - 2 * weight_decay) * param - eta * grad_param.T\n",
        "        return grad\n",
        "    else:\n",
        "        raise NotImplementedError"
      ]
    },
    {
      "cell_type": "markdown",
      "metadata": {
        "id": "qlcK4d1cfyFL"
      },
      "source": [
        "### Computing the Accuracy\n",
        "\n",
        "Here, we simply use the model to predict the class (by taking the argmax of the output !) for every example in ```X```, and count the number of times the model is right, to output the accuracy.\n",
        "<div class='alert alert-block alert-info'>\n",
        "            Code:</div>"
      ]
    },
    {
      "cell_type": "code",
      "execution_count": 12,
      "metadata": {
        "id": "LUcqANznfyFL"
      },
      "outputs": [],
      "source": [
        "def computeAcc(W, b, X, labels):\n",
        "    \"\"\"\n",
        "    Compute the loss value of the current network on the full batch\n",
        "    Inputs: act_func: the activation function - function\n",
        "          : W: the weights - list of ndarray\n",
        "          : B: the bias - list of ndarray\n",
        "          : X: the batch - ndarray\n",
        "          : labels: the labels corresponding to the batch\n",
        "    Outputs: loss: the negative log-likelihood - float\n",
        "           : accuracy: the ratio of examples that are well-classified - float\n",
        "    \"\"\" \n",
        "    # Forward propagation\n",
        "    z = forward(W, b, X)\n",
        " \n",
        "    # Compute the softmax and the prediction\n",
        "    out = softmax(z)\n",
        "    pred = out.argmax(axis=1)\n",
        "    \n",
        "    # Compute the accuracy\n",
        "    accuracy = (pred == labels).sum() / len(labels)\n",
        "      \n",
        "    return accuracy"
      ]
    },
    {
      "cell_type": "markdown",
      "metadata": {
        "id": "LSoRfs1mfyFM"
      },
      "source": [
        "### Preparing training\n",
        "\n",
        "The following hyperparameters are given. Next, we can assemble all the function previously defined to implement a training loop. We will train the classifier on **one epoch**, meaning that the model will see each training example once. "
      ]
    },
    {
      "cell_type": "code",
      "execution_count": 13,
      "metadata": {
        "id": "O01rprqsfyFM"
      },
      "outputs": [],
      "source": [
        "# Optimization\n",
        "eta = 0.01\n",
        "regularizer = 'L2'\n",
        "weight_decay = 0.0001\n",
        "\n",
        "# Training\n",
        "log_interval = 5000"
      ]
    },
    {
      "cell_type": "markdown",
      "metadata": {
        "id": "tj1dHoM4fyFM"
      },
      "source": [
        "<div class='alert alert-block alert-info'>\n",
        "            Code:</div>"
      ]
    },
    {
      "cell_type": "code",
      "execution_count": 14,
      "metadata": {
        "colab": {
          "base_uri": "https://localhost:8080/"
        },
        "id": "1nPDhwG2fyFM",
        "outputId": "adca0ace-74a1-4865-d759-6d8f90a5b37b"
      },
      "outputs": [
        {
          "output_type": "stream",
          "name": "stdout",
          "text": [
            "0 0.08536666666666666 0.0845 0.01\n",
            "5000 0.8183 0.8256 0.01\n",
            "10000 0.8638333333333333 0.8619 0.01\n",
            "15000 0.8449 0.8451 0.01\n",
            "20000 0.8516833333333333 0.8599 0.01\n",
            "25000 0.8473333333333334 0.8517 0.01\n",
            "30000 0.8548833333333333 0.8567 0.01\n",
            "35000 0.8406166666666667 0.8449 0.01\n",
            "40000 0.8541 0.854 0.01\n",
            "45000 0.8534833333333334 0.8518 0.01\n",
            "50000 0.8498833333333333 0.857 0.01\n",
            "55000 0.8267833333333333 0.8289 0.01\n",
            "Final result: 0.8267833333333333 0.8289 0.01\n"
          ]
        }
      ],
      "source": [
        "# Data structures for plotting\n",
        "g_train_acc=[]\n",
        "g_valid_acc=[]\n",
        "\n",
        "#######################\n",
        "### Learning process ##\n",
        "#######################\n",
        "for j in range(n_training):\n",
        "    # Getting the example\n",
        "    X, y = X_train[j], y_train[j]\n",
        "\n",
        "    # Forward propagation\n",
        "    z = forward(W, b, X)\n",
        "\n",
        "    # Compute the softmax\n",
        "    out = softmax(z)\n",
        "        \n",
        "    # Compute the gradient at the top layer\n",
        "    derror = out - y # This is o - y \n",
        "\n",
        "    # Update the parameters\n",
        "    W, b = update(eta, W, b, derror, X, regularizer, weight_decay)\n",
        "\n",
        "    if j % log_interval == 0:\n",
        "        # Every log_interval examples, look at the training accuracy\n",
        "        train_accuracy = computeAcc(W, b, X_train, train_labels) \n",
        "\n",
        "        # And the testing accuracy\n",
        "        test_accuracy = computeAcc(W, b, X_test, test_labels) \n",
        "\n",
        "        g_train_acc.append(train_accuracy)\n",
        "        g_valid_acc.append(test_accuracy)\n",
        "        result_line = str(int(j)) + \" \" + str(train_accuracy) + \" \" + str(test_accuracy) + \" \" + str(eta)\n",
        "        print(result_line)\n",
        "\n",
        "g_train_acc.append(train_accuracy)\n",
        "g_valid_acc.append(test_accuracy)\n",
        "result_line = \"Final result:\" + \" \" + str(train_accuracy) + \" \" + str(test_accuracy) + \" \" + str(eta)\n",
        "print(result_line)     "
      ]
    },
    {
      "cell_type": "code",
      "source": [
        "plt.plot(g_train_acc, c='r', label='Train accuracy')\n",
        "plt.plot(g_valid_acc, c='b', label='Test accuracy')\n",
        "plt.legend()\n",
        "plt.show()"
      ],
      "metadata": {
        "colab": {
          "base_uri": "https://localhost:8080/",
          "height": 434
        },
        "id": "b0J0bUYZvIRD",
        "outputId": "759033f6-e9f9-4a1b-cfc4-d8f9f47f7dd8"
      },
      "execution_count": 15,
      "outputs": [
        {
          "output_type": "display_data",
          "data": {
            "text/plain": [
              "<Figure size 640x480 with 1 Axes>"
            ],
            "image/png": "[encoded data removed]"
          },
          "metadata": {}
        }
      ]
    },
    {
      "cell_type": "markdown",
      "metadata": {
        "id": "y6chIG0bfyFM"
      },
      "source": [
        "What can you say about the performance of this simple linear classifier ?\n",
        "<div class='alert alert-block alert-warning'>\n",
        "            Answer:</div>"
      ]
    },
    {
      "cell_type": "markdown",
      "source": [
        "It's quite good but it could be improved with multiple layers."
      ],
      "metadata": {
        "id": "aHLaxbkLwEkb"
      }
    },
    {
      "cell_type": "markdown",
      "metadata": {
        "id": "BVBBhKfafyFN"
      },
      "source": [
        "# Second part: Autoencoder with Keras"
      ]
    },
    {
      "cell_type": "markdown",
      "metadata": {
        "id": "TPkIa064fyFN"
      },
      "source": [
        "## Autoencoder and PCA\n",
        "\n",
        "First, we will try to connect the representation produced by Principal Component Analysis with what is learnt by a simple, linear, autoencoder. We will use the ```scikit-learn``` implementation of the ```PCA``` to obtain the two first components (hint: use the attribute ```.components_```), and visualize them:\n",
        "<div class='alert alert-block alert-info'>\n",
        "            Code:</div>"
      ]
    },
    {
      "cell_type": "code",
      "execution_count": 16,
      "metadata": {
        "colab": {
          "base_uri": "https://localhost:8080/",
          "height": 324
        },
        "id": "yms80mv0fyFN",
        "outputId": "8def0119-f3e0-4da2-f82b-b225f8f6e0f0"
      },
      "outputs": [
        {
          "output_type": "execute_result",
          "data": {
            "text/plain": [
              "Text(0.5, 0, 'Second Principal Component')"
            ]
          },
          "metadata": {},
          "execution_count": 16
        },
        {
          "output_type": "display_data",
          "data": {
            "text/plain": [
              "<Figure size 640x480 with 2 Axes>"
            ],
            "image/png": "[encoded data removed]"
          },
          "metadata": {}
        }
      ],
      "source": [
        "from sklearn.decomposition import PCA\n",
        "\n",
        "# Let's find the first 2 PCA components\n",
        "num_components = 2\n",
        "pca = PCA(n_components=num_components).fit(X_train)\n",
        "\n",
        "# Reshape so they resemble images and we can print them\n",
        "eigen_mnist = pca.components_.reshape(2, img_rows, img_cols)\n",
        "\n",
        "# Show the reshaped principal components\n",
        "f, ax = plt.subplots(1,2)\n",
        "ax[0].imshow(eigen_mnist[0], cmap='gray')\n",
        "ax[0].set_xlabel('First Principal Component')\n",
        "ax[1].imshow(eigen_mnist[1], cmap='gray')\n",
        "ax[1].set_xlabel('Second Principal Component')"
      ]
    },
    {
      "cell_type": "code",
      "execution_count": 22,
      "metadata": {
        "colab": {
          "base_uri": "https://localhost:8080/"
        },
        "id": "VPTQKxPsfyFN",
        "outputId": "d16ab36a-2466-4273-bd01-57088a4d529d"
      },
      "outputs": [
        {
          "output_type": "execute_result",
          "data": {
            "text/plain": [
              "array([0.0564685 , 0.09725216], dtype=float32)"
            ]
          },
          "metadata": {},
          "execution_count": 22
        }
      ],
      "source": [
        "# Print the variance explained by those components\n",
        "pca.explained_variance_ratio_\n",
        "pca.explained_variance_ratio_.cumsum()"
      ]
    },
    {
      "cell_type": "markdown",
      "metadata": {
        "id": "euWGDVVDfyFN"
      },
      "source": [
        "Comment on the visualization in relation to the variance explained by only keeping the two principal components:\n",
        "<div class='alert alert-block alert-warning'>\n",
        "            Answer:</div>"
      ]
    },
    {
      "cell_type": "markdown",
      "source": [
        "Only keeping the first two components enables us to understand 9.7% of the total variability (be cautious we have to use the attribute explained_variance_ratio to get the percentage of variance explained by each component). We can indeed perceive some kind of outward shapes of numbers, which are a mix of all the numbers. The shape are not very sharp, which can be explained with the only 9% variance explained (we 'lose' 90% of informations/details)."
      ],
      "metadata": {
        "id": "rtiF5KwnC7uw"
      }
    },
    {
      "cell_type": "markdown",
      "metadata": {
        "id": "O4njeMETfyFN"
      },
      "source": [
        "### Implementing the Autoencoder with Keras"
      ]
    },
    {
      "cell_type": "code",
      "execution_count": 18,
      "metadata": {
        "id": "mvwT8UF1fyFN"
      },
      "outputs": [],
      "source": [
        "from tensorflow.keras.models import Model\n",
        "from tensorflow.keras.layers import Input, Dense\n",
        "from tensorflow.keras.optimizers import SGD"
      ]
    },
    {
      "cell_type": "markdown",
      "metadata": {
        "id": "GVPSaHGFfyFO"
      },
      "source": [
        "Now, we will use Keras to implement the autoencoder. You can take a look at this [cheatsheet](https://s3.amazonaws.com/assets.datacamp.com/blog_assets/Keras_Cheat_Sheet_Python.pdf) for some basic commands to use keras.\n",
        "\n",
        "In this first case, we implement a **simple linear autoencoder**. Build it in order to have the same capacity as the PCA decomposition (2 hidden dimensions !) we made just above. \n",
        "<div class='alert alert-block alert-info'>\n",
        "            Code:</div>"
      ]
    },
    {
      "cell_type": "code",
      "execution_count": 19,
      "metadata": {
        "colab": {
          "base_uri": "https://localhost:8080/"
        },
        "id": "XJKOoP2-fyFO",
        "outputId": "bde9a2ec-6628-4194-8e94-da8e8a669dd9"
      },
      "outputs": [
        {
          "output_type": "stream",
          "name": "stdout",
          "text": [
            "Model: \"ae_model\"\n",
            "_________________________________________________________________\n",
            " Layer (type)                Output Shape              Param #   \n",
            "=================================================================\n",
            " input_1 (InputLayer)        [(None, 784)]             0         \n",
            "                                                                 \n",
            " dense (Dense)               (None, 2)                 1570      \n",
            "                                                                 \n",
            " dense_1 (Dense)             (None, 784)               2352      \n",
            "                                                                 \n",
            "=================================================================\n",
            "Total params: 3,922\n",
            "Trainable params: 3,922\n",
            "Non-trainable params: 0\n",
            "_________________________________________________________________\n"
          ]
        }
      ],
      "source": [
        "# Input layer\n",
        "input_layer = Input(img_rows*img_cols)\n",
        "\n",
        "# Encoding layer\n",
        "latent_view = Dense(2, activation='relu')(input_layer)\n",
        "\n",
        "# Decoding layer\n",
        "output_layer = Dense(img_rows*img_cols)(latent_view)\n",
        "\n",
        "ae_model = Model(input_layer, output_layer, name='ae_model')\n",
        "ae_model.summary()"
      ]
    },
    {
      "cell_type": "markdown",
      "metadata": {
        "id": "MQbfmZdgfyFO"
      },
      "source": [
        "What loss shoud we use ? Choose the usual one and import it directly from Keras. You can use a simple ```SGD``` optimizer, and then compile the model; finally, train it to rebuild images from the original examples. \n",
        "<div class='alert alert-block alert-info'>\n",
        "            Code:</div>"
      ]
    },
    {
      "cell_type": "code",
      "execution_count": 20,
      "metadata": {
        "colab": {
          "base_uri": "https://localhost:8080/"
        },
        "id": "cXVbXcFIfyFO",
        "outputId": "1e76b7af-b117-4b77-8c01-01ee93245023"
      },
      "outputs": [
        {
          "output_type": "stream",
          "name": "stdout",
          "text": [
            "Epoch 1/10\n",
            "469/469 [==============================] - 7s 4ms/step - loss: 0.9154 - val_loss: 0.9144\n",
            "Epoch 2/10\n",
            "469/469 [==============================] - 1s 3ms/step - loss: 0.9057 - val_loss: 0.8959\n",
            "Epoch 3/10\n",
            "469/469 [==============================] - 1s 3ms/step - loss: 0.8830 - val_loss: 0.8765\n",
            "Epoch 4/10\n",
            "469/469 [==============================] - 1s 3ms/step - loss: 0.8697 - val_loss: 0.8664\n",
            "Epoch 5/10\n",
            "469/469 [==============================] - 1s 3ms/step - loss: 0.8594 - val_loss: 0.8574\n",
            "Epoch 6/10\n",
            "469/469 [==============================] - 1s 3ms/step - loss: 0.8520 - val_loss: 0.8521\n",
            "Epoch 7/10\n",
            "469/469 [==============================] - 2s 4ms/step - loss: 0.8478 - val_loss: 0.8492\n",
            "Epoch 8/10\n",
            "469/469 [==============================] - 2s 4ms/step - loss: 0.8454 - val_loss: 0.8472\n",
            "Epoch 9/10\n",
            "469/469 [==============================] - 1s 3ms/step - loss: 0.8436 - val_loss: 0.8458\n",
            "Epoch 10/10\n",
            "469/469 [==============================] - 1s 3ms/step - loss: 0.8422 - val_loss: 0.8447\n"
          ]
        }
      ],
      "source": [
        "from tensorflow.keras.losses import MeanSquaredError\n",
        "loss = MeanSquaredError()\n",
        "\n",
        "optimizer = SGD(learning_rate=1e-1) \n",
        "ae_model.compile(optimizer=optimizer, loss=loss) \n",
        "\n",
        "batch_size = 128\n",
        "epochs = 10\n",
        "# No noise here - we want to train a simple auto-encoder and compare visually with PCA\n",
        "history = ae_model.fit(X_train,\n",
        "                       X_train,\n",
        "                       epochs=epochs,\n",
        "                       batch_size=batch_size,\n",
        "                       verbose=1,\n",
        "                       shuffle=True,\n",
        "                       validation_data=(X_test, X_test))"
      ]
    },
    {
      "cell_type": "markdown",
      "metadata": {
        "id": "D7WuBPLgfyFO"
      },
      "source": [
        "Assuming that the name of your layer (obtained through the command ```model.summary()```) is ```'layer'```, here is the way to obtained the weights. Visualize the weights of the encoder and compare them to the two components obtained through the PCA."
      ]
    },
    {
      "cell_type": "code",
      "execution_count": 23,
      "metadata": {
        "id": "5Bc7sTQLfyFO"
      },
      "outputs": [],
      "source": [
        "weights, bias = ae_model.get_layer('dense').get_weights()"
      ]
    },
    {
      "cell_type": "markdown",
      "metadata": {
        "id": "FqsT40pYfyFP"
      },
      "source": [
        "<div class='alert alert-block alert-info'>\n",
        "            Code:</div>"
      ]
    },
    {
      "cell_type": "code",
      "execution_count": 24,
      "metadata": {
        "colab": {
          "base_uri": "https://localhost:8080/",
          "height": 324
        },
        "id": "_0SaHaW4fyFP",
        "outputId": "52deefad-add6-4750-e8e2-3a8741053231"
      },
      "outputs": [
        {
          "output_type": "execute_result",
          "data": {
            "text/plain": [
              "Text(0.5, 0, 'Second Principal Component')"
            ]
          },
          "metadata": {},
          "execution_count": 24
        },
        {
          "output_type": "display_data",
          "data": {
            "text/plain": [
              "<Figure size 640x480 with 2 Axes>"
            ],
            "image/png": "[encoded data removed]"
          },
          "metadata": {}
        }
      ],
      "source": [
        "# Show the two dimensions of the encoder, in a similar manner to the principal components\n",
        "# (after reshaping them as images !)\n",
        "comp_nn = weights.reshape(2, img_rows, img_cols)\n",
        "\n",
        "# Show the reshaped principal components\n",
        "f, ax = plt.subplots(1,2)\n",
        "ax[0].imshow(comp_nn[0], cmap='gray')\n",
        "ax[0].set_xlabel('First Principal Component')\n",
        "ax[1].imshow(comp_nn[1], cmap='gray')\n",
        "ax[1].set_xlabel('Second Principal Component')"
      ]
    },
    {
      "cell_type": "markdown",
      "source": [
        "We don't find the same images as with the PCA. The NN probably does another decomposition."
      ],
      "metadata": {
        "id": "Yykb5718EdrQ"
      }
    },
    {
      "cell_type": "markdown",
      "metadata": {
        "id": "mZkJDAUYfyFP"
      },
      "source": [
        "Now, visualize the images rebuilt by the network !\n",
        "<div class='alert alert-block alert-info'>\n",
        "            Code:</div>"
      ]
    },
    {
      "cell_type": "code",
      "execution_count": 25,
      "metadata": {
        "colab": {
          "base_uri": "https://localhost:8080/",
          "height": 300
        },
        "id": "mMPumLL5fyFP",
        "outputId": "f8dbae8a-6d74-4c1d-f922-73d4e04b1d35"
      },
      "outputs": [
        {
          "output_type": "stream",
          "name": "stdout",
          "text": [
            "313/313 [==============================] - 1s 2ms/step\n"
          ]
        },
        {
          "output_type": "display_data",
          "data": {
            "text/plain": [
              "<Figure size 640x480 with 5 Axes>"
            ],
            "image/png": "[encoded data removed]"
          },
          "metadata": {}
        },
        {
          "output_type": "display_data",
          "data": {
            "text/plain": [
              "<Figure size 640x480 with 5 Axes>"
            ],
            "image/png": "[encoded data removed]"
          },
          "metadata": {}
        }
      ],
      "source": [
        "# Select a few images at random: look from n\n",
        "n = np.random.randint(0,len(test_images)-5)\n",
        "\n",
        "# Plot a few images from n  \n",
        "f, ax = plt.subplots(1,5)\n",
        "for i,a in enumerate(range(n,n+5)):\n",
        "  ax[i].imshow(X_test[a].reshape(img_rows, img_cols))\n",
        "    \n",
        "# Get the prediction from the model \n",
        "\n",
        "X_pred = ae_model.predict(X_test)\n",
        "\n",
        "# ... and plot them \n",
        "f, ax = plt.subplots(1,5)\n",
        "for i,a in enumerate(range(n,n+5)):\n",
        "  ax[i].imshow(X_pred[a].reshape(img_rows, img_cols))"
      ]
    },
    {
      "cell_type": "markdown",
      "metadata": {
        "id": "XIJ0LjQYfyFP"
      },
      "source": [
        "Do the same ( = build a new model) with a latent dimension that is largely higher than 2. Compare the visualizations and the images that are rebuilt. \n",
        "<div class='alert alert-block alert-info'>\n",
        "            Code:</div>"
      ]
    },
    {
      "cell_type": "code",
      "execution_count": 26,
      "metadata": {
        "colab": {
          "base_uri": "https://localhost:8080/",
          "height": 908
        },
        "id": "3L2qDSTjfyFP",
        "outputId": "e00ddc8a-9673-4b52-8a4e-99781694c00f"
      },
      "outputs": [
        {
          "output_type": "stream",
          "name": "stdout",
          "text": [
            "Model: \"ae_model\"\n",
            "_________________________________________________________________\n",
            " Layer (type)                Output Shape              Param #   \n",
            "=================================================================\n",
            " input_2 (InputLayer)        [(None, 784)]             0         \n",
            "                                                                 \n",
            " dense_2 (Dense)             (None, 10)                7850      \n",
            "                                                                 \n",
            " dense_3 (Dense)             (None, 784)               8624      \n",
            "                                                                 \n",
            "=================================================================\n",
            "Total params: 16,474\n",
            "Trainable params: 16,474\n",
            "Non-trainable params: 0\n",
            "_________________________________________________________________\n",
            "Epoch 1/10\n",
            "469/469 [==============================] - 2s 3ms/step - loss: 0.9216 - val_loss: 0.9129\n",
            "Epoch 2/10\n",
            "469/469 [==============================] - 1s 3ms/step - loss: 0.8947 - val_loss: 0.8738\n",
            "Epoch 3/10\n",
            "469/469 [==============================] - 1s 3ms/step - loss: 0.8475 - val_loss: 0.8290\n",
            "Epoch 4/10\n",
            "469/469 [==============================] - 1s 3ms/step - loss: 0.8063 - val_loss: 0.7948\n",
            "Epoch 5/10\n",
            "469/469 [==============================] - 2s 4ms/step - loss: 0.7773 - val_loss: 0.7714\n",
            "Epoch 6/10\n",
            "469/469 [==============================] - 2s 3ms/step - loss: 0.7568 - val_loss: 0.7532\n",
            "Epoch 7/10\n",
            "469/469 [==============================] - 1s 3ms/step - loss: 0.7405 - val_loss: 0.7384\n",
            "Epoch 8/10\n",
            "469/469 [==============================] - 1s 3ms/step - loss: 0.7277 - val_loss: 0.7274\n",
            "Epoch 9/10\n",
            "469/469 [==============================] - 1s 3ms/step - loss: 0.7186 - val_loss: 0.7199\n",
            "Epoch 10/10\n",
            "469/469 [==============================] - 1s 3ms/step - loss: 0.7125 - val_loss: 0.7148\n",
            "313/313 [==============================] - 1s 1ms/step\n"
          ]
        },
        {
          "output_type": "display_data",
          "data": {
            "text/plain": [
              "<Figure size 640x480 with 5 Axes>"
            ],
            "image/png": "[encoded data removed]"
          },
          "metadata": {}
        },
        {
          "output_type": "display_data",
          "data": {
            "text/plain": [
              "<Figure size 640x480 with 5 Axes>"
            ],
            "image/png": "[encoded data removed]"
          },
          "metadata": {}
        }
      ],
      "source": [
        "# Input layer\n",
        "input_layer = Input(img_rows*img_cols)\n",
        "\n",
        "# Encoding layer\n",
        "latent_view = Dense(10, activation='relu')(input_layer)\n",
        "\n",
        "# Decoding layer\n",
        "output_layer = Dense(img_rows*img_cols)(latent_view)\n",
        "\n",
        "ae_model = Model(input_layer, output_layer, name='ae_model')\n",
        "ae_model.summary()\n",
        "\n",
        "from tensorflow.keras.losses import MeanSquaredError\n",
        "loss = MeanSquaredError()\n",
        "\n",
        "optimizer = SGD(learning_rate=1e-1) \n",
        "ae_model.compile(optimizer=optimizer, loss=loss) \n",
        "\n",
        "batch_size = 128\n",
        "epochs = 10\n",
        "# No noise here - we want to train a simple auto-encoder and compare visually with PCA\n",
        "history = ae_model.fit(X_train,\n",
        "                       X_train,\n",
        "                       epochs=epochs,\n",
        "                       batch_size=batch_size,\n",
        "                       verbose=1,\n",
        "                       shuffle=True,\n",
        "                       validation_data=(X_test, X_test))\n",
        "\n",
        "# Select a few images at random: look from n\n",
        "n = np.random.randint(0,len(test_images)-5)\n",
        "\n",
        "# Plot a few images from n  \n",
        "f, ax = plt.subplots(1,5)\n",
        "for i,a in enumerate(range(n,n+5)):\n",
        "  ax[i].imshow(X_test[a].reshape(img_rows, img_cols))\n",
        "    \n",
        "# Get the prediction from the model \n",
        "\n",
        "X_pred = ae_model.predict(X_test)\n",
        "\n",
        "# ... and plot them \n",
        "f, ax = plt.subplots(1,5)\n",
        "for i,a in enumerate(range(n,n+5)):\n",
        "  ax[i].imshow(X_pred[a].reshape(img_rows, img_cols))"
      ]
    },
    {
      "cell_type": "markdown",
      "source": [
        "It's really better! "
      ],
      "metadata": {
        "id": "rVDVFSwxAZfp"
      }
    },
    {
      "cell_type": "markdown",
      "metadata": {
        "id": "F8La9wDUfyFP"
      },
      "source": [
        "### Bonus: De-noising Autoencoder\n",
        "\n",
        "Now, we can implement a **de-noising autoencoder**. The following function will transform an array of images by adding it random noise. Create a new autoencoder model, this time with **more layers** and **non-linear activations** (like the ReLU) and train it to rebuild the de-noised images. Display some testing images, with noise, and re-built."
      ]
    },
    {
      "cell_type": "code",
      "execution_count": 27,
      "metadata": {
        "id": "aHtVVHrCfyFQ"
      },
      "outputs": [],
      "source": [
        "def noise(array):\n",
        "    \"\"\"\n",
        "    Adds random noise to each image in the supplied array.\n",
        "    \"\"\"\n",
        "    noise_factor = 0.4\n",
        "    noisy_array = array + noise_factor * np.random.normal(\n",
        "        loc=0.0, scale=1.0, size=array.shape\n",
        "    )\n",
        "    return noisy_array"
      ]
    },
    {
      "cell_type": "code",
      "execution_count": 28,
      "metadata": {
        "id": "YkWCpS5NfyFQ"
      },
      "outputs": [],
      "source": [
        "# Create a copy of the data with added noise\n",
        "noisy_train_images = noise(train_images)\n",
        "noisy_test_images = noise(test_images)"
      ]
    },
    {
      "cell_type": "markdown",
      "metadata": {
        "id": "W-R-KN6DfyFQ"
      },
      "source": [
        "<div class='alert alert-block alert-info'>\n",
        "            Code:</div>"
      ]
    },
    {
      "cell_type": "code",
      "execution_count": 29,
      "metadata": {
        "colab": {
          "base_uri": "https://localhost:8080/",
          "height": 1000
        },
        "id": "ohHa4D5dfyFQ",
        "outputId": "8bffff97-c913-4f55-ba2e-d149715191cd"
      },
      "outputs": [
        {
          "output_type": "stream",
          "name": "stdout",
          "text": [
            "Model: \"ae_model\"\n",
            "_________________________________________________________________\n",
            " Layer (type)                Output Shape              Param #   \n",
            "=================================================================\n",
            " input_3 (InputLayer)        [(None, 784)]             0         \n",
            "                                                                 \n",
            " dense_4 (Dense)             (None, 50)                39250     \n",
            "                                                                 \n",
            " dense_5 (Dense)             (None, 10)                510       \n",
            "                                                                 \n",
            " dense_6 (Dense)             (None, 50)                550       \n",
            "                                                                 \n",
            " dense_7 (Dense)             (None, 784)               39984     \n",
            "                                                                 \n",
            "=================================================================\n",
            "Total params: 80,294\n",
            "Trainable params: 80,294\n",
            "Non-trainable params: 0\n",
            "_________________________________________________________________\n",
            "Epoch 1/10\n",
            "469/469 [==============================] - 4s 4ms/step - loss: 0.6393 - val_loss: 0.6279\n",
            "Epoch 2/10\n",
            "469/469 [==============================] - 2s 4ms/step - loss: 0.5930 - val_loss: 0.5779\n",
            "Epoch 3/10\n",
            "469/469 [==============================] - 2s 4ms/step - loss: 0.5733 - val_loss: 0.5654\n",
            "Epoch 4/10\n",
            "469/469 [==============================] - 2s 4ms/step - loss: 0.5571 - val_loss: 0.5842\n",
            "Epoch 5/10\n",
            "469/469 [==============================] - 2s 4ms/step - loss: 0.5577 - val_loss: 0.5614\n",
            "Epoch 6/10\n",
            "469/469 [==============================] - 2s 5ms/step - loss: 0.5687 - val_loss: 0.6117\n",
            "Epoch 7/10\n",
            "469/469 [==============================] - 2s 4ms/step - loss: 0.5672 - val_loss: 0.5808\n",
            "Epoch 8/10\n",
            "469/469 [==============================] - 2s 4ms/step - loss: 0.5537 - val_loss: 0.5655\n",
            "Epoch 9/10\n",
            "469/469 [==============================] - 2s 4ms/step - loss: 0.5578 - val_loss: 0.5679\n",
            "Epoch 10/10\n",
            "469/469 [==============================] - 2s 4ms/step - loss: 0.5639 - val_loss: 0.5727\n",
            "313/313 [==============================] - 1s 2ms/step\n"
          ]
        },
        {
          "output_type": "display_data",
          "data": {
            "text/plain": [
              "<Figure size 640x480 with 5 Axes>"
            ],
            "image/png": "[encoded data removed]"
          },
          "metadata": {}
        },
        {
          "output_type": "display_data",
          "data": {
            "text/plain": [
              "<Figure size 640x480 with 5 Axes>"
            ],
            "image/png": "[encoded data removed]"
          },
          "metadata": {}
        },
        {
          "output_type": "display_data",
          "data": {
            "text/plain": [
              "<Figure size 640x480 with 5 Axes>"
            ],
            "image/png": "[encoded data removed]"
          },
          "metadata": {}
        },
        {
          "output_type": "display_data",
          "data": {
            "text/plain": [
              "<Figure size 640x480 with 5 Axes>"
            ],
            "image/png": "[encoded data removed]"
          },
          "metadata": {}
        }
      ],
      "source": [
        "# Visualize some of the images with noise against the originals\n",
        "from tensorflow.keras import optimizers\n",
        "\n",
        "n = np.random.randint(0,len(test_images)-5)\n",
        "f, ax = plt.subplots(1,5)\n",
        "for i,a in enumerate(range(n,n+5)):\n",
        "  ax[i].imshow(X_train[a].reshape(img_rows, img_cols))\n",
        "\n",
        "f, ax = plt.subplots(1,5)\n",
        "for i,a in enumerate(range(n,n+5)):\n",
        "  ax[i].imshow(noisy_train_images[a].reshape(img_rows, img_cols))\n",
        "\n",
        "# Build a new model with more layers and Relu activations\n",
        "\n",
        "input_layer = Input(img_rows*img_cols)\n",
        "\n",
        "latent_view_1 = Dense(50, activation='relu')(input_layer)\n",
        "latent_view_2 = Dense(10, activation='relu')(latent_view_1)\n",
        "latent_view_3 = Dense(50, activation='relu')(latent_view_2)\n",
        "\n",
        "output_layer = Dense(img_rows*img_cols)(latent_view_3)\n",
        "\n",
        "ae_model = Model(input_layer, output_layer, name='ae_model')\n",
        "ae_model.summary()\n",
        "\n",
        "# Compile it but here, use noised data as inputs !\n",
        "\n",
        "loss = MeanSquaredError()\n",
        "\n",
        "optimizer = optimizers.Adam(learning_rate=0.01)\n",
        "ae_model.compile(optimizer=optimizer, loss=loss) \n",
        "\n",
        "batch_size = 128\n",
        "epochs = 10\n",
        "# No noise here - we want to train a simple auto-encoder and compare visually with PCA\n",
        "history = ae_model.fit(X_train,\n",
        "                       X_train,\n",
        "                       epochs=epochs,\n",
        "                       batch_size=batch_size,\n",
        "                       verbose=1,\n",
        "                       shuffle=True,\n",
        "                       validation_data=(X_test, X_test))\n",
        "\n",
        "# Visualize the images rebuilt by the model !\n",
        "\n",
        "# Select a few images at random: look from n\n",
        "n = np.random.randint(0,len(test_images)-5)\n",
        "\n",
        "# Plot a few images from n  \n",
        "f, ax = plt.subplots(1,5)\n",
        "for i,a in enumerate(range(n,n+5)):\n",
        "  ax[i].imshow(X_test[a].reshape(img_rows, img_cols))\n",
        "    \n",
        "# Get the prediction from the model \n",
        "\n",
        "X_pred = ae_model.predict(X_test)\n",
        "\n",
        "# ... and plot them \n",
        "f, ax = plt.subplots(1,5)\n",
        "for i,a in enumerate(range(n,n+5)):\n",
        "  ax[i].imshow(X_pred[a].reshape(img_rows, img_cols))"
      ]
    },
    {
      "cell_type": "markdown",
      "metadata": {
        "id": "BQwEPq6mfyFQ"
      },
      "source": [
        "Assuming that we normalize the images to be in the 0-1 range, what other loss function could we use ?\n",
        "<div class='alert alert-block alert-warning'>\n",
        "            Answer:</div>"
      ]
    },
    {
      "cell_type": "markdown",
      "source": [
        "We could use the Maximum Likelihood Estimation. "
      ],
      "metadata": {
        "id": "e7goIacaEPdK"
      }
    }
  ],
  "metadata": {
    "accelerator": "GPU",
    "colab": {
      "provenance": []
    },
    "kernelspec": {
      "display_name": "Python 3 (ipykernel)",
      "language": "python",
      "name": "python3"
    },
    "language_info": {
      "codemirror_mode": {
        "name": "ipython",
        "version": 3
      },
      "file_extension": ".py",
      "mimetype": "text/x-python",
      "name": "python",
      "nbconvert_exporter": "python",
      "pygments_lexer": "ipython3",
      "version": "3.9.16"
    }
  },
  "nbformat": 4,
  "nbformat_minor": 0
}